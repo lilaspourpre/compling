{
 "cells": [
  {
   "cell_type": "markdown",
   "metadata": {},
   "source": [
    "<center><h1>Предобработка текста и определение языка</h1></center>\n",
    "\n",
    "\n",
    "### Вариант А\n",
    "\n",
    "Написать классификатор для автоматического определения языка текста.\n",
    "Данные:\n",
    "Выбрать 4 языка с похожими алфавитами.\n",
    "Набрать обуч. выборку — (хотя бы) по 100 статей из википедии на каждый язык. Бонус: скачать дампы википедии для выбранных языков, почистить и использовать в качестве обучающей выборки их.\n",
    "Проверочная выборка: скачать (хотя бы) по 30 статей из википедии на каждый язык.\n",
    "\n",
    "Признаки для обучения (векторизация документов): символьные триграммы.\n",
    "\n",
    "Предобработка:\n",
    "Удалить из всех текстов символы/токены/части документов, которые добавят шума на этапе векторизации или затруднят классификацию.\n",
    "Выбрать по 3 статьи для каждого языка и подробно описать свои решения по препроцессингу.\n",
    "\n",
    "Векторизовав тексты, построить матрицу схожести текстов, визуализировать её.\n",
    "\n",
    "Какие языки оказались очень похожи друг на друга, а какие нет? Иными словами, какие языки проще различить по нграммам, а какие труднее? Выбрать один язык. С какими языками его легко спутать (по вашей векторизации)?\n",
    "\n",
    "Обучить классификатор (например, NaiveBayes или SVM).\n",
    "Оценить качество работы системы: посчитать точность, полноту, f-меру.\n",
    "\n",
    "Сколько обучающих данных достаточно для получения хороших результатов? Бонус: график зависимости accuracy от объёма обучающей выборки.\n",
    "Сравните качество класификации на униграммах, биграммах, 3-граммах, 4-граммах, 5-граммах. Бонус: постройте такой график. \n",
    "Какие именно нграммы оказались наиболее полезными признаками? (например, содержащие символы, которые используются лишь в одно алфавите?)\n",
    "Интерпретировать результаты.\n",
    "\n",
    "Оформление: в свой репозиторий загрузить папку langdetect_a_hw, в которой должны быть:\n",
    "lang_detect_results.txt (или .md или .pdf) с описанием всех ваших шагов (сколько каких текстов взяли, какие методы использовали, какие результаты получились). Описание шага предобработки — обязательно;\n",
    "проверочная выборка, на которой вы тестировали классификатор (или, что предпочтительнее, файл с ссылками на статьи википедии, которые вы использовали);\n",
    "код в .ipynb либо .py;\n"
   ]
  },
  {
   "cell_type": "code",
   "execution_count": 3,
   "metadata": {
    "collapsed": true
   },
   "outputs": [],
   "source": [
    "import wikipedia\n",
    "from collections import defaultdict\n",
    "from time import sleep\n",
    "from pickle import dump, load\n",
    "from itertools import chain\n",
    "from pandas import DataFrame\n",
    "import re"
   ]
  },
  {
   "cell_type": "code",
   "execution_count": 4,
   "metadata": {
    "collapsed": true
   },
   "outputs": [],
   "source": [
    "from sklearn.pipeline import Pipeline\n",
    "from sklearn.feature_selection import SelectPercentile\n",
    "from sklearn import svm\n",
    "from sklearn.linear_model import LogisticRegression\n",
    "from sklearn.feature_extraction.text import TfidfVectorizer, CountVectorizer\n",
    "from sklearn.model_selection import train_test_split\n",
    "from sklearn.metrics import f1_score\n",
    "from sklearn.metrics import confusion_matrix\n",
    "import matplotlib.pyplot as plt\n",
    "import seaborn as sns\n",
    "from sklearn.metrics.pairwise import cosine_similarity\n",
    "from scipy import sparse"
   ]
  },
  {
   "cell_type": "code",
   "execution_count": 5,
   "metadata": {},
   "outputs": [],
   "source": [
    "languages = ['en', 'fr', 'cz', 'es']\n",
    "pages, labels = defaultdict(lambda: []), defaultdict(lambda: [])"
   ]
  },
  {
   "cell_type": "code",
   "execution_count": 6,
   "metadata": {
    "collapsed": true
   },
   "outputs": [],
   "source": [
    "import warnings\n",
    "warnings.filterwarnings('ignore')"
   ]
  },
  {
   "cell_type": "markdown",
   "metadata": {},
   "source": [
    "\n",
    "Для препроцессинга были выбраны регулярные выражения, ощичающие текст до формата: \"слова без чисел, знаков препинания, знаков табуляции, разделенные пробелами\""
   ]
  },
  {
   "cell_type": "code",
   "execution_count": 7,
   "metadata": {
    "collapsed": true
   },
   "outputs": [],
   "source": [
    "def normalize(text):\n",
    "    reg_exps = (re.compile('[^\\w ]+'), re.compile('[\\d]+'), re.compile('[ ]+'))\n",
    "    for reg in reg_exps:\n",
    "        text = reg.sub(' ', text)\n",
    "    return text.strip()"
   ]
  },
  {
   "cell_type": "markdown",
   "metadata": {},
   "source": [
    "Сравните:"
   ]
  },
  {
   "cell_type": "code",
   "execution_count": 12,
   "metadata": {},
   "outputs": [
    {
     "name": "stdout",
     "output_type": "stream",
     "text": [
      "The grapheme Ć (minuscule: ć), formed from C with the addition of an acute accent, is used in various languages. It usually denotes [t͡ɕ], the voiceless alveolo-palatal affricate, including in phonetic transcription. Its Unicode codepoints are U+0106 for Ć and U+0107 for ć.\n",
      "The symbol originated in the Polish alphabet (where, in its modern usage, it appears most often at the ends of words) and was adopted by Croatian linguist Ljudevit Gaj into Serbo-Croatian in the 19th century. It is the fifth letter of the Polish, Sorbian, and Gaj's Latin alphabet of Serbo-Croatian language. It is fourth in the Belarusian Łacinka alphabet.\n",
      "It is also adopted by Wymysorys a West-Germanic language spoken in Poland. It is also the fifth letter of the Wymysorys alphabet.\n",
      "In Slovenian, it occurs only in loanwords, mainly from Serbo-Croatian (such as the surname Handanović), and denotes the same sound as Č, i.e. the voiceless palato-alveolar affricate.\n",
      "The Serbian Cyrillic alphabet equivalent is ⟨Ћ⟩. Macedonian uses ⟨Ќ⟩ as a partial equivalent. Other languages which use the Cyrillic alphabet usually represent this sound by the character combination ЧЬ.\n",
      "Such letter is also used in unofficial Belarusian Łacinka where it represents soften diphthong ts.\n",
      "\n",
      "\n",
      "== Computing code ==\n",
      "\n",
      "\n",
      "== See also ==\n",
      "Acute accent\n",
      "Č\n",
      "List of Latin digraphs\n",
      "\n",
      "\n",
      "== References ==\n"
     ]
    }
   ],
   "source": [
    "wikipedia.set_lang(languages[0])\n",
    "for page_title in wikipedia.random(1):\n",
    "    title = page_title\n",
    "    article = wikipedia.page(str(wikipedia.search(title)[0])).content\n",
    "print(article)"
   ]
  },
  {
   "cell_type": "code",
   "execution_count": 13,
   "metadata": {},
   "outputs": [
    {
     "data": {
      "text/plain": [
       "'The grapheme Ć minuscule ć formed from C with the addition of an acute accent is used in various languages It usually denotes t ɕ the voiceless alveolo palatal affricate including in phonetic transcription Its Unicode codepoints are U for Ć and U for ć The symbol originated in the Polish alphabet where in its modern usage it appears most often at the ends of words and was adopted by Croatian linguist Ljudevit Gaj into Serbo Croatian in the th century It is the fifth letter of the Polish Sorbian and Gaj s Latin alphabet of Serbo Croatian language It is fourth in the Belarusian Łacinka alphabet It is also adopted by Wymysorys a West Germanic language spoken in Poland It is also the fifth letter of the Wymysorys alphabet In Slovenian it occurs only in loanwords mainly from Serbo Croatian such as the surname Handanović and denotes the same sound as Č i e the voiceless palato alveolar affricate The Serbian Cyrillic alphabet equivalent is Ћ Macedonian uses Ќ as a partial equivalent Other languages which use the Cyrillic alphabet usually represent this sound by the character combination ЧЬ Such letter is also used in unofficial Belarusian Łacinka where it represents soften diphthong ts Computing code See also Acute accent Č List of Latin digraphs References'"
      ]
     },
     "execution_count": 13,
     "metadata": {},
     "output_type": "execute_result"
    }
   ],
   "source": [
    "normalize(article)"
   ]
  },
  {
   "cell_type": "markdown",
   "metadata": {},
   "source": [
    "Тоже самое происходит и с другими языками: например, с испанским:"
   ]
  },
  {
   "cell_type": "code",
   "execution_count": 26,
   "metadata": {},
   "outputs": [
    {
     "name": "stdout",
     "output_type": "stream",
     "text": [
      "La n (en mayúscula N, nombre ene, plural enes) es la decimocuarta letra y la undécima consonante del alfabeto español y del alfabeto latino básico.\n",
      "En español representa un fonema sonante, nasal y alveolar.[1]​\n",
      "\n",
      "\n",
      "== Historia ==\n",
      "Se corresponde con la letra N del alfabeto latino o romano. La letra semítica Nûn era probablemente la imagen de una serpiente. La n es el origen de la virgulilla (~).\n",
      "\n",
      "\n",
      "== Uso fonético ==\n",
      "En la norma culta del español en España y América, la grafía N tiene una articulación alveolar nasal, /n/, con la punta de la lengua apoyada en la montaña alveolar, justo encima de los incisivos superiores. Esta /n/ suele asimilarse al punto de articulación de la consonante que le sigue; así la /n/ es dental delante de /t/ (antes), velar [ŋ] delante de /x/, /k/ y /g/ (baŋco, coŋ gente), bilabial [m] delante de /m/ (inmóvil, con matices) o /b/ (han bombardeado).\n",
      "A pesar de lo dicho anteriormente, en extensas áreas de América y España la -n final e implosiva, no se articula alveolar /n/, sino velar [ŋ]. Esta articulación es igual a la de la /n/ seguida de consonantes velares, como en \"banco\". Actualmente la -n se articula velar en casi toda Andalucía, Extremadura, León, Asturias y Galicia y se encuentra en expansión en las regiones vecinas (en Murcia y partes de La Mancha por ejemplo). En la América hispana la -n velar se conoce en toda la cuenca caribeña, a saber, América Central, norte de Colombia, Venezuela y las Antillas (Cuba, Puerto Rico, República Dominicana). También suele ser velar la -n en todas las regiones del Pacífico, desde la costa pacífica colombiana hasta Chile. Son tantas las zonas con -n velar en América latina que resulta más fácil decir las que tienen -n alveolar: casi todo México (excepto alguna zona costera del Caribe), interior de Colombia, casi toda Bolivia, Paraguay, Uruguay y Argentina, pese a que también en el cono sur se ha encontrado -n velar. En buena parte de las regiones latinoamericanas la -n velar no es sólo final de palabra (camióŋ, paŋ) como sucede en las zonas de España señaladas, sino que cualquier -n implosiva se articula velar: cambio ['kaŋbjo], antes ['aŋtes].\n",
      "\n",
      "\n",
      "== Representaciones alternativas ==\n",
      "En alfabeto fonético aeronáutico se le asigna la palabra November (noviembre). En código Morse es: -·\n",
      "\n",
      "\n",
      "== Véase también ==\n",
      "Ñ\n",
      "\n",
      "\n",
      "== Referencias ==\n",
      "\n",
      "\n",
      "== Enlaces externos ==\n",
      " Wikimedia Commons alberga contenido multimedia sobre N. Commons\n",
      " Wikcionario tiene definiciones y otra información sobre n.Wikcionario\n"
     ]
    }
   ],
   "source": [
    "wikipedia.set_lang(languages[3])\n",
    "for page_title in wikipedia.random(1):\n",
    "    title = page_title\n",
    "    if 'disambig' in page_title: \n",
    "            title = page_title.split(' ')[0] \n",
    "    article = wikipedia.page(str(wikipedia.search(title)[0])).content\n",
    "print(article)"
   ]
  },
  {
   "cell_type": "code",
   "execution_count": 27,
   "metadata": {},
   "outputs": [
    {
     "data": {
      "text/plain": [
       "'La n en mayúscula N nombre ene plural enes es la decimocuarta letra y la undécima consonante del alfabeto español y del alfabeto latino básico En español representa un fonema sonante nasal y alveolar Historia Se corresponde con la letra N del alfabeto latino o romano La letra semítica Nûn era probablemente la imagen de una serpiente La n es el origen de la virgulilla Uso fonético En la norma culta del español en España y América la grafía N tiene una articulación alveolar nasal n con la punta de la lengua apoyada en la montaña alveolar justo encima de los incisivos superiores Esta n suele asimilarse al punto de articulación de la consonante que le sigue así la n es dental delante de t antes velar ŋ delante de x k y g baŋco coŋ gente bilabial m delante de m inmóvil con matices o b han bombardeado A pesar de lo dicho anteriormente en extensas áreas de América y España la n final e implosiva no se articula alveolar n sino velar ŋ Esta articulación es igual a la de la n seguida de consonantes velares como en banco Actualmente la n se articula velar en casi toda Andalucía Extremadura León Asturias y Galicia y se encuentra en expansión en las regiones vecinas en Murcia y partes de La Mancha por ejemplo En la América hispana la n velar se conoce en toda la cuenca caribeña a saber América Central norte de Colombia Venezuela y las Antillas Cuba Puerto Rico República Dominicana También suele ser velar la n en todas las regiones del Pacífico desde la costa pacífica colombiana hasta Chile Son tantas las zonas con n velar en América latina que resulta más fácil decir las que tienen n alveolar casi todo México excepto alguna zona costera del Caribe interior de Colombia casi toda Bolivia Paraguay Uruguay y Argentina pese a que también en el cono sur se ha encontrado n velar En buena parte de las regiones latinoamericanas la n velar no es sólo final de palabra camióŋ paŋ como sucede en las zonas de España señaladas sino que cualquier n implosiva se articula velar cambio kaŋbjo antes aŋtes Representaciones alternativas En alfabeto fonético aeronáutico se le asigna la palabra November noviembre En código Morse es Véase también Ñ Referencias Enlaces externos Wikimedia Commons alberga contenido multimedia sobre N Commons Wikcionario tiene definiciones y otra información sobre n Wikcionario'"
      ]
     },
     "execution_count": 27,
     "metadata": {},
     "output_type": "execute_result"
    }
   ],
   "source": [
    "normalize(article)"
   ]
  },
  {
   "cell_type": "markdown",
   "metadata": {},
   "source": [
    "Таким образом, соберем 200 статей из Википедии (по 50 для каждого из 4 языков):"
   ]
  },
  {
   "cell_type": "code",
   "execution_count": 7,
   "metadata": {
    "collapsed": true
   },
   "outputs": [],
   "source": [
    "for language_id, language in enumerate(languages):\n",
    "    wikipedia.set_lang(language)\n",
    "    for page_title in wikipedia.random(50):\n",
    "        title = page_title\n",
    "        if 'disambig' in page_title: \n",
    "            title = page_title.split(' ')[0] \n",
    "        while(True):\n",
    "            try:\n",
    "                normalized_text = normalize(wikipedia.page(str(wikipedia.search(title)[0])).content)\n",
    "                pages[language].append(normalized_text)\n",
    "                labels[language].append(language_id)\n",
    "                break\n",
    "            except wikipedia.DisambiguationError:\n",
    "                title = wikipedia.random(1)"
   ]
  },
  {
   "cell_type": "code",
   "execution_count": null,
   "metadata": {
    "collapsed": true
   },
   "outputs": [],
   "source": []
  },
  {
   "cell_type": "code",
   "execution_count": 8,
   "metadata": {
    "collapsed": true
   },
   "outputs": [],
   "source": [
    "data = DataFrame(list(zip(list(chain.from_iterable(pages[language] for language in languages)), \n",
    "                          list(chain.from_iterable(labels[language] for language in languages)))),\n",
    "                          columns=['text', 'language'])"
   ]
  },
  {
   "cell_type": "code",
   "execution_count": 9,
   "metadata": {
    "collapsed": true
   },
   "outputs": [],
   "source": [
    "data.to_csv('wikipedia_languages.csv', encoding='utf-8')"
   ]
  },
  {
   "cell_type": "code",
   "execution_count": 99,
   "metadata": {
    "collapsed": true
   },
   "outputs": [],
   "source": [
    "data = DataFrame.from_csv('wikipedia_languages.csv', encoding='utf-8')"
   ]
  },
  {
   "cell_type": "code",
   "execution_count": 100,
   "metadata": {
    "collapsed": true
   },
   "outputs": [],
   "source": [
    "train, test = train_test_split(data, test_size=0.2)"
   ]
  },
  {
   "cell_type": "code",
   "execution_count": 101,
   "metadata": {
    "collapsed": true
   },
   "outputs": [],
   "source": [
    "select = SelectPercentile(percentile=100)\n",
    "clf = LogisticRegression(tol=1e-8, penalty='l2', C=1)\n",
    "svm1 = svm.LinearSVC()\n",
    "svm2 = svm.SVC()\n",
    "countvect_char_wb =[CountVectorizer(ngram_range=(3, 3), analyzer='char_wb'), TfidfVectorizer(ngram_range=(1, 3), analyzer='char', binary=False)]"
   ]
  },
  {
   "cell_type": "code",
   "execution_count": 129,
   "metadata": {},
   "outputs": [
    {
     "name": "stdout",
     "output_type": "stream",
     "text": [
      "[2 3 0 1 1]\n"
     ]
    },
    {
     "data": {
      "image/png": "[encoded data removed]",
      "text/plain": [
       "<matplotlib.figure.Figure at 0xd4df4b0>"
      ]
     },
     "metadata": {},
     "output_type": "display_data"
    },
    {
     "data": {
      "image/png": "[encoded data removed]",
      "text/plain": [
       "<matplotlib.figure.Figure at 0xd4df4f0>"
      ]
     },
     "metadata": {},
     "output_type": "display_data"
    }
   ],
   "source": [
    "print(train.language.values[20:25])\n",
    "for countvect in countvect_char_wb:\n",
    "    sp_matrix = countvect.fit_transform(train.text.values[20:25], train.language.values[20:25])\n",
    "    similarities = cosine_similarity(sp_matrix)\n",
    "    df_cm = DataFrame(similarities, columns=train.language.values[20:25], index=train.language.values[20:25])\n",
    "    plt.figure(figsize=(20,10))\n",
    "    plt.title('Similarity for texts from '+re.findall(\".+Vectorizer\",str(repr(countvect)))[0], fontsize=16)\n",
    "    sns.heatmap(df_cm, annot=True, cmap=plt.cm.Blues)\n",
    "plt.show()"
   ]
  },
  {
   "cell_type": "code",
   "execution_count": 103,
   "metadata": {},
   "outputs": [
    {
     "name": "stdout",
     "output_type": "stream",
     "text": [
      "1.0\n",
      "0.5\n"
     ]
    }
   ],
   "source": [
    "for countvect in countvect_char_wb:\n",
    "    char_model = Pipeline([('vect', countvect), ('select', select), ('logr', clf)])\n",
    "    char_model.fit(train.text.values, train.language.values)\n",
    "    print(f1_score(char_model.predict(test.text.values), test.language.values, average='micro'))"
   ]
  },
  {
   "cell_type": "code",
   "execution_count": null,
   "metadata": {
    "collapsed": true
   },
   "outputs": [],
   "source": []
  },
  {
   "cell_type": "code",
   "execution_count": null,
   "metadata": {
    "collapsed": true
   },
   "outputs": [],
   "source": []
  },
  {
   "cell_type": "code",
   "execution_count": null,
   "metadata": {
    "collapsed": true
   },
   "outputs": [],
   "source": []
  }
 ],
 "metadata": {
  "kernelspec": {
   "display_name": "Python 3",
   "language": "python",
   "name": "python3"
  },
  "language_info": {
   "codemirror_mode": {
    "name": "ipython",
    "version": 3
   },
   "file_extension": ".py",
   "mimetype": "text/x-python",
   "name": "python",
   "nbconvert_exporter": "python",
   "pygments_lexer": "ipython3",
   "version": "3.6.2"
  }
 },
 "nbformat": 4,
 "nbformat_minor": 2
}
